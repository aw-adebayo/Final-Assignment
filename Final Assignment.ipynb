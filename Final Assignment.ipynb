{
  "metadata": {
    "language_info": {
      "codemirror_mode": {
        "name": "python",
        "version": 3
      },
      "file_extension": ".py",
      "mimetype": "text/x-python",
      "name": "python",
      "nbconvert_exporter": "python",
      "pygments_lexer": "ipython3",
      "version": "3.8"
    },
    "kernelspec": {
      "name": "python",
      "display_name": "Python (Pyodide)",
      "language": "python"
    }
  },
  "nbformat_minor": 4,
  "nbformat": 4,
  "cells": [
    {
      "cell_type": "markdown",
      "source": " # My Jupyter Notebook on IBM Watson Studio",
      "metadata": {}
    },
    {
      "cell_type": "markdown",
      "source": "## **Adewale Adebayo**\n### A Geospatial data scientist",
      "metadata": {}
    },
    {
      "cell_type": "markdown",
      "source": "## _I am interested in data science because i want to be a geospatial data scientist par excellence in the health sector_",
      "metadata": {}
    },
    {
      "cell_type": "markdown",
      "source": "### my code (1+1) must be equal to 2 in the cell below",
      "metadata": {}
    },
    {
      "cell_type": "code",
      "source": "1+1",
      "metadata": {
        "trusted": true
      },
      "execution_count": 7,
      "outputs": [
        {
          "execution_count": 7,
          "output_type": "execute_result",
          "data": {
            "text/plain": "2"
          },
          "metadata": {}
        }
      ]
    },
    {
      "cell_type": "markdown",
      "source": "---\n- Item 1\n- Item 2\n- Item 3\n---\n1. Item 1\n2. Item 2\n3. Item 3\n---\n~~strikethrough text~~\n> the text above contains a horizontal rule strikethrough, bulleted list and numbered list\n",
      "metadata": {}
    },
    {
      "cell_type": "code",
      "source": "",
      "metadata": {},
      "execution_count": null,
      "outputs": []
    }
  ]
}